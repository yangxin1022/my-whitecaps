{
 "cells": [
  {
   "cell_type": "markdown",
   "metadata": {},
   "source": [
    "# Load some old stuff"
   ]
  },
  {
   "cell_type": "code",
   "execution_count": 68,
   "metadata": {},
   "outputs": [],
   "source": [
    "import os\n",
    "import cv2 as cv\n",
    "import numpy as np\n",
    "import math\n",
    "from matplotlib import pyplot as plt\n",
    "from mpl_toolkits.mplot3d import Axes3D\n",
    "import csv\n",
    "import codecs\n",
    "import scipy.io as scio\n",
    "import pandas as pd\n",
    "%matplotlib inline\n",
    "\n",
    "# the following part creates a new class which is similar to dictionary but can store dictionary data type in it. \n",
    "class Vividict(dict):\n",
    "    def __missing__(self, key):\n",
    "        value = self[key] = type(self)()\n",
    "        return value\n",
    "    \n",
    "def Gopro_videoOrder(path):\n",
    "    # this function is trying to sort the order of GoPro video because the default order by name in the computer\n",
    "    # is not the real temporal order of the videos\n",
    "    # 这个函数的作用是将GoPro的视频根据时间顺序重新排序，GoPro在生成视频文件的时候有自己的命名体系，但是电脑的默认名称排序与真实的时间\n",
    "    # 排序不一致。\n",
    "    # input: path, the path of unprocessed images folder of GoPro videos\n",
    "    video_list = os.listdir(path)\n",
    "    for i in range(0, len(video_list)-1):\n",
    "        min_index = i\n",
    "        for j in range(i, len(video_list)-1):\n",
    "            if int(video_list[min_index][6:8]) > int(video_list[j+1][6:8]):\n",
    "                min_index = j + 1\n",
    "            elif int(video_list[min_index][6:8]) == int(video_list[j+1][6:8]):\n",
    "                if int(video_list[min_index][2:4]) > int(video_list[j+1][2:4]):\n",
    "                    min_index = j + 1\n",
    "        swap_video = video_list[min_index]\n",
    "        video_list[min_index] = video_list[i]\n",
    "        video_list[i] = swap_video\n",
    "    return video_list\n",
    "\n",
    "def Gopro_videoCombine(video_list, path_unprocessed, path_WFcsv):\n",
    "    # this function is trying to include all the whitecap fraction of the GoPro videos taken in one day \n",
    "    # in a variable with dictionary data type. The key of this dictionary is the name of the video. \n",
    "    # the value is also a dictionary data type variable. The value contains the whitecap fraction and the image order\n",
    "    # respectively. \n",
    "    # 这个函数的作用是将原本一个视频一个whitecap数据文件的数据整合在一起。为了便于确认时间顺序的正确性，每一个视频文件夹里面的数据是一个\n",
    "    # dictionary，其中key是图片的顺序，value是whitecap fraction的值。然后再将这些dictionary存在一个新的dictionary中，新的\n",
    "    # dictionary中key是视频的名称，值是存储了每个视频数据的dictionary。\n",
    "    # 原本也是可以直接将一天的视频数据全部连接在一起成为一个list。我这样做的原因主要是为了保证顺序的正确，方便事后的校对。\n",
    "    # input: video_list, the list of video name which has been sorted by Gopro_videoOrder function\n",
    "    #        path_unprocessed, the path of unprocessed images folder of GoPro videos\n",
    "    #        paht_WFcsv, the path of the folder including the whitecap fraction .csv data\n",
    "    video_image = Vividict()\n",
    "    for i in range(0, len(video_list)):\n",
    "        image_list = os.listdir(path_unprocessed + \"/\" + video_list[i])\n",
    "        for img in image_list[:]:\n",
    "            if img[0:2] == '._':\n",
    "                image_list.remove(img)\n",
    "        image_list.sort(key=lambda x:int(x[14:-4]))\n",
    "        for j in range(0, len(image_list)):\n",
    "            video_image[video_list[i]][image_list[j]] = np.nan\n",
    "            # the reason for that is because some images in a video has been deleted because of the glints. \n",
    "            # 上面这段可以让由于反光等各种因素被删除的图片也占一个时间，这样在做时域分析的时候便于对应\n",
    "            data_wf = []\n",
    "            path = path_WFcsv + \"/\" + video_list[i] + \"/\"\n",
    "            if video_list[i] not in os.listdir(path_WFcsv):\n",
    "                continue\n",
    "            else:\n",
    "                with open(path + video_list[i][0:8] + \"_ATS_wf.csv\") as csvfile: \n",
    "                    csv_reader = csv.reader(csvfile, delimiter = ' ', quotechar = ' ')\n",
    "                    for row in csv_reader:\n",
    "                        for n in row:\n",
    "                            data_wf.append(float(n))\n",
    "                if j < len(data_wf):\n",
    "                    video_image[video_list[i]][image_list[j]] = data_wf[j]\n",
    "                else:\n",
    "                    continue\n",
    "    return video_image\n",
    "\n",
    "\n",
    "def SecTo20min(video_list, video_image):\n",
    "    wf_second = []\n",
    "    wf_20min = []\n",
    "    for n in range(0, len(video_list)):\n",
    "        wf_second.extend(video_image[video_list[n]].values())\n",
    "    for i in range(0, int(len(wf_second)/1200)):\n",
    "        realnum = 1200\n",
    "        for j in range(0, 1200):\n",
    "            if np.isnan(wf_second[i*1200+j]):\n",
    "                realnum = realnum - 1\n",
    "                wf_second[i*1200+j] = 0\n",
    "        if realnum == 0:\n",
    "            wf_20min.append(0)\n",
    "        else:\n",
    "            wf_20min.append(sum(wf_second[i*1200:(i*1200+1199)])/realnum)\n",
    "    return wf_20min\n",
    "\n",
    "\n",
    "video_list_4l = Gopro_videoOrder(\"F:/2ndProcessedGoPro/2020_3_4_GoPro/image_left\")\n",
    "video_list_5l = Gopro_videoOrder(\"F:/2ndProcessedGoPro/2020_3_5_GoPro/image_left\")\n",
    "video_list_6l = Gopro_videoOrder(\"F:/2ndProcessedGoPro/2020_3_6_GoPro/image_left\")\n",
    "video_list_7l = Gopro_videoOrder(\"F:/2ndProcessedGoPro/2020_3_7_GoPro/image_left\")\n",
    "\n",
    "path_unprocessed = \"F:/2ndProcessedGoPro/2020_3_4_GoPro/image_left\"\n",
    "path_WFcsv = \"F:/GoPro_manuallly_checked_processed/2020_3_4_GoPro/processed_left\"\n",
    "video_image_4l = Gopro_videoCombine(video_list_4l, path_unprocessed, path_WFcsv)\n",
    "\n",
    "path_unprocessed = \"F:/2ndProcessedGoPro/2020_3_5_GoPro/image_left\"\n",
    "path_WFcsv = \"F:/GoPro_manuallly_checked_processed/2020_3_5_GoPro/processed_left\"\n",
    "video_image_5l = Gopro_videoCombine(video_list_5l, path_unprocessed, path_WFcsv)\n",
    "\n",
    "path_unprocessed = \"F:/2ndProcessedGoPro/2020_3_6_GoPro/image_left\"\n",
    "path_WFcsv = \"F:/GoPro_manuallly_checked_processed/2020_3_6_GoPro/processed_left\"\n",
    "video_image_6l = Gopro_videoCombine(video_list_6l, path_unprocessed, path_WFcsv) \n",
    "\n",
    "path_unprocessed = \"F:/2ndProcessedGoPro/2020_3_7_GoPro/image_left\"\n",
    "path_WFcsv = \"F:/GoPro_manuallly_checked_processed/2020_3_7_GoPro/processed_left\"\n",
    "video_image_7l = Gopro_videoCombine(video_list_7l, path_unprocessed, path_WFcsv) \n",
    "\n",
    "wf_4l_20min = SecTo20min(video_list_4l, video_image_4l)\n",
    "wf_5l_20min = SecTo20min(video_list_5l, video_image_5l)\n",
    "wf_6l_20min = SecTo20min(video_list_6l, video_image_6l)\n",
    "wf_7l_20min = SecTo20min(video_list_7l, video_image_7l)\n",
    "\n",
    "dataFile = 'E:/OneDrive - Texas A&M University/Some research related data/WindsByScott.mat'\n",
    "windspeed = scio.loadmat(dataFile)\n",
    "windspeed_20min = []\n",
    "for i in range(0, len(windspeed[\"ucm\"])):\n",
    "    windspeed_20min.append(np.sqrt(float(windspeed[\"ucm\"][i])**2+float(windspeed[\"vcm\"][i])**2))\n",
    "windspeed_20min_4l = windspeed_20min[0:8]\n",
    "windspeed_20min_5l = windspeed_20min[8:33]\n",
    "windspeed_20min_6l = windspeed_20min[33:61]\n",
    "windspeed_20min_7l = windspeed_20min[61:81]\n",
    "wp_20_4l = windspeed_20min_4l\n",
    "wp_20_5l = windspeed_20min_5l[0:9]\n",
    "wp_20_5l.extend(windspeed_20min_5l[12:25])\n",
    "wp_20_6l = windspeed_20min_6l[0:13]\n",
    "wp_20_6l.extend(windspeed_20min_6l[21:28])\n",
    "wp_20_7l = windspeed_20min_7l"
   ]
  },
  {
   "cell_type": "code",
   "execution_count": null,
   "metadata": {},
   "outputs": [],
   "source": []
  },
  {
   "cell_type": "markdown",
   "metadata": {},
   "source": [
    "# Load Active ones"
   ]
  },
  {
   "cell_type": "code",
   "execution_count": 10,
   "metadata": {},
   "outputs": [],
   "source": [
    "import pandas as pd\n",
    "import numpy as np\n",
    "import matplotlib.pyplot as plt\n",
    "import os"
   ]
  },
  {
   "cell_type": "code",
   "execution_count": 13,
   "metadata": {},
   "outputs": [],
   "source": [
    "def Gopro_videoOrder(path):\n",
    "    # this function is trying to sort the order of GoPro video because the default order by name in the computer\n",
    "    # is not the real temporal order of the videos\n",
    "    # 这个函数的作用是将GoPro的视频根据时间顺序重新排序，GoPro在生成视频文件的时候有自己的命名体系，但是电脑的默认名称排序与真实的时间\n",
    "    # 排序不一致。\n",
    "    # input: path, the path of unprocessed images folder of GoPro videos\n",
    "    video_list = os.listdir(path)\n",
    "    for i in range(0, len(video_list)-1):\n",
    "        min_index = i\n",
    "        for j in range(i, len(video_list)-1):\n",
    "            if int(video_list[min_index][6:8]) > int(video_list[j+1][6:8]):\n",
    "                min_index = j + 1\n",
    "            elif int(video_list[min_index][6:8]) == int(video_list[j+1][6:8]):\n",
    "                if int(video_list[min_index][2:4]) > int(video_list[j+1][2:4]):\n",
    "                    min_index = j + 1\n",
    "        swap_video = video_list[min_index]\n",
    "        video_list[min_index] = video_list[i]\n",
    "        video_list[i] = swap_video\n",
    "    return video_list"
   ]
  },
  {
   "cell_type": "code",
   "execution_count": 58,
   "metadata": {},
   "outputs": [],
   "source": [
    "video_list_4l = Gopro_videoOrder(\"E:/GoPro_1Hz_Unet_output/2020_3_4\")\n",
    "video_list_5l = Gopro_videoOrder(\"E:/GoPro_1Hz_Unet_output/2020_3_5_GoPro\")"
   ]
  },
  {
   "cell_type": "code",
   "execution_count": 59,
   "metadata": {},
   "outputs": [],
   "source": [
    "import warnings\n",
    "warnings.filterwarnings(\"ignore\")"
   ]
  },
  {
   "cell_type": "code",
   "execution_count": 60,
   "metadata": {},
   "outputs": [],
   "source": [
    "active_data_4l = pd.DataFrame()\n",
    "data_path = \"E:/GoPro_1Hz_Unet_output/2020_3_4\"\n",
    "\n",
    "for fname in video_list_4l:\n",
    "    video_data = pd.read_csv(os.path.join(data_path, fname))\n",
    "    active_data_4l = active_data_4l.append(video_data[['video','active_whitecaps_fraction']])\n",
    "    \n",
    "active_data_5l = pd.DataFrame()\n",
    "data_path = \"E:/GoPro_1Hz_Unet_output/2020_3_5_GoPro\"\n",
    "\n",
    "for fname in video_list_5l:\n",
    "    video_data = pd.read_csv(os.path.join(data_path, fname))\n",
    "    active_data_5l = active_data_5l.append(video_data[['video','active_whitecaps_fraction']])"
   ]
  },
  {
   "cell_type": "code",
   "execution_count": 62,
   "metadata": {},
   "outputs": [],
   "source": [
    "wf_second = active_data_4l['active_whitecaps_fraction'].values\n",
    "wf_20min_active_4l = []\n",
    "for i in range(0, int(len(wf_second)/1200)):\n",
    "    realnum = 1200\n",
    "    for j in range(0, 1200):\n",
    "        if np.isnan(wf_second[i*1200+j]):\n",
    "            realnum = realnum - 1\n",
    "            wf_second[i*1200+j] = 0\n",
    "    if realnum == 0:\n",
    "        wf_20min_active_4l.append(0)\n",
    "    else:\n",
    "        wf_20min_active_4l.append(sum(wf_second[i*1200:(i*1200+1199)])/realnum)\n",
    "        \n",
    "wf_second = active_data_5l['active_whitecaps_fraction'].values\n",
    "wf_20min_active_5l = []\n",
    "for i in range(0, int(len(wf_second)/1200)):\n",
    "    realnum = 1200\n",
    "    for j in range(0, 1200):\n",
    "        if np.isnan(wf_second[i*1200+j]):\n",
    "            realnum = realnum - 1\n",
    "            wf_second[i*1200+j] = 0\n",
    "    if realnum == 0:\n",
    "        wf_20min_active_5l.append(0)\n",
    "    else:\n",
    "        wf_20min_active_5l.append(sum(wf_second[i*1200:(i*1200+1199)])/realnum)"
   ]
  },
  {
   "cell_type": "code",
   "execution_count": 63,
   "metadata": {},
   "outputs": [
    {
     "data": {
      "text/plain": [
       "22"
      ]
     },
     "execution_count": 63,
     "metadata": {},
     "output_type": "execute_result"
    }
   ],
   "source": [
    "len(wf_20min_active_5l)"
   ]
  },
  {
   "cell_type": "code",
   "execution_count": 75,
   "metadata": {},
   "outputs": [],
   "source": [
    "import scipy.io as scio\n",
    "\n",
    "dataFile = 'E:/OneDrive - Texas A&M University/Some research related data/WindsByScott.mat'\n",
    "windspeed = scio.loadmat(dataFile)\n",
    "windspeed_20min = []\n",
    "for i in range(0, len(windspeed[\"ucm\"])):\n",
    "    windspeed_20min.append(np.sqrt(float(windspeed[\"ucm\"][i])**2+float(windspeed[\"vcm\"][i])**2))\n",
    "windspeed_20min_4l_active = windspeed_20min[0:8]\n",
    "wf_20min_active_4l = wf_20min_active_4l[0:8]\n",
    "windspeed_20min_5l_active = windspeed_20min[8:33]\n",
    "\n",
    "wp_20_4l_active = windspeed_20min_4l_active\n",
    "wp_20_5l_active = windspeed_20min_5l_active[0:9]\n",
    "wp_20_5l_active.extend(windspeed_20min_5l_active[12:25])"
   ]
  },
  {
   "cell_type": "code",
   "execution_count": 71,
   "metadata": {},
   "outputs": [
    {
     "data": {
      "text/plain": [
       "11"
      ]
     },
     "execution_count": 71,
     "metadata": {},
     "output_type": "execute_result"
    }
   ],
   "source": [
    "len(wf_4l_20min)"
   ]
  },
  {
   "cell_type": "code",
   "execution_count": 72,
   "metadata": {},
   "outputs": [
    {
     "data": {
      "text/plain": [
       "22"
      ]
     },
     "execution_count": 72,
     "metadata": {},
     "output_type": "execute_result"
    }
   ],
   "source": [
    "len(wf_5l_20min)"
   ]
  },
  {
   "cell_type": "code",
   "execution_count": 73,
   "metadata": {},
   "outputs": [
    {
     "data": {
      "text/plain": [
       "8"
      ]
     },
     "execution_count": 73,
     "metadata": {},
     "output_type": "execute_result"
    }
   ],
   "source": [
    "len(wf_20min_active_4l)"
   ]
  },
  {
   "cell_type": "code",
   "execution_count": null,
   "metadata": {},
   "outputs": [],
   "source": [
    "wf_4l_20min"
   ]
  },
  {
   "cell_type": "code",
   "execution_count": 77,
   "metadata": {},
   "outputs": [
    {
     "data": {
      "text/plain": [
       "<matplotlib.legend.Legend at 0x242f5585420>"
      ]
     },
     "execution_count": 77,
     "metadata": {},
     "output_type": "execute_result"
    },
    {
     "data": {
      "image/png": "[encoded data removed]",
      "text/plain": [
       "<Figure size 720x576 with 1 Axes>"
      ]
     },
     "metadata": {
      "needs_background": "light"
     },
     "output_type": "display_data"
    }
   ],
   "source": [
    "from pylab import *\n",
    "\n",
    "wf_4l = np.array(wf_4l_20min[0:8])\n",
    "wf_4l_active = np.array(wf_20min_active_4l)\n",
    "wf_5l = np.array(wf_5l_20min)\n",
    "wf_5l_active = np.array(wf_20min_active_5l)\n",
    "\n",
    "fig, ax = plt.subplots()\n",
    "fig.set_size_inches(10, 8)\n",
    "ax.set_yscale(\"log\")\n",
    "plt.scatter(wp_20_4l_active, wf_4l_active*100, marker = '*')\n",
    "plt.scatter(wp_20_5l_active, wf_5l_active*100, marker = '*')\n",
    "plt.scatter(wp_20_4l, wf_4l*100, marker = 'o')\n",
    "plt.scatter(wp_20_5l, wf_5l*100, marker = 'o')\n",
    "\n",
    "ax.set_ylabel(\"Whitecap Fraction (%)\",fontsize=22)\n",
    "ax.set_xlabel(\"Wind Speed (m/s)\",fontsize=22)\n",
    "plt.xticks(fontsize=20)\n",
    "plt.yticks(fontsize=20)\n",
    "legend([\"Active March 4th\", \"Active March 5th\", \"Total March 4th\", \"Total March 5th\"])"
   ]
  },
  {
   "cell_type": "code",
   "execution_count": 78,
   "metadata": {},
   "outputs": [
    {
     "data": {
      "text/plain": [
       "<matplotlib.legend.Legend at 0x242fae21b40>"
      ]
     },
     "execution_count": 78,
     "metadata": {},
     "output_type": "execute_result"
    },
    {
     "data": {
      "image/png": "[encoded data removed]",
      "text/plain": [
       "<Figure size 720x576 with 1 Axes>"
      ]
     },
     "metadata": {
      "needs_background": "light"
     },
     "output_type": "display_data"
    }
   ],
   "source": [
    "from pylab import *\n",
    "\n",
    "fig, ax = plt.subplots()\n",
    "fig.set_size_inches(10, 8)\n",
    "ax.set_yscale(\"log\")\n",
    "\n",
    "plt.scatter(wp_20_4l_active, (wf_4l-wf_4l_active)*100, marker = 's')\n",
    "plt.scatter(wp_20_5l_active, (wf_5l-wf_5l_active)*100, marker = 's')\n",
    "\n",
    "plt.scatter(wp_20_4l_active, wf_4l_active*100, marker = '*')\n",
    "plt.scatter(wp_20_5l_active, wf_5l_active*100, marker = '*')\n",
    "plt.scatter(wp_20_4l, wf_4l*100, marker = 'o')\n",
    "plt.scatter(wp_20_5l, wf_5l*100, marker = 'o')\n",
    "\n",
    "ax.set_ylabel(\"Whitecap Fraction (%)\",fontsize=22)\n",
    "ax.set_xlabel(\"Wind Speed (m/s)\",fontsize=22)\n",
    "plt.xticks(fontsize=20)\n",
    "plt.yticks(fontsize=20)\n",
    "legend([\"Residual March 4th\", \"Residual March 4th\",\n",
    "        \"Active March 4th\", \"Active March 5th\", \n",
    "        \"Total March 4th\", \"Total March 5th\"])"
   ]
  },
  {
   "cell_type": "code",
   "execution_count": 79,
   "metadata": {},
   "outputs": [
    {
     "data": {
      "text/plain": [
       "<matplotlib.legend.Legend at 0x242f4c7b880>"
      ]
     },
     "execution_count": 79,
     "metadata": {},
     "output_type": "execute_result"
    },
    {
     "data": {
      "image/png": "[encoded data removed]",
      "text/plain": [
       "<Figure size 720x576 with 1 Axes>"
      ]
     },
     "metadata": {
      "needs_background": "light"
     },
     "output_type": "display_data"
    }
   ],
   "source": [
    "from pylab import *\n",
    "\n",
    "fig, ax = plt.subplots()\n",
    "fig.set_size_inches(10, 8)\n",
    "ax.set_yscale(\"log\")\n",
    "\n",
    "plt.scatter(wp_20_4l_active, (wf_4l-wf_4l_active)*100, marker = 's')\n",
    "plt.scatter(wp_20_5l_active, (wf_5l-wf_5l_active)*100, marker = 's')\n",
    "\n",
    "\n",
    "\n",
    "ax.set_ylabel(\"Whitecap Fraction (%)\",fontsize=22)\n",
    "ax.set_xlabel(\"Wind Speed (m/s)\",fontsize=22)\n",
    "plt.xticks(fontsize=20)\n",
    "plt.yticks(fontsize=20)\n",
    "legend([\"Residual March 4th\", \"Residual March 4th\"])"
   ]
  },
  {
   "cell_type": "code",
   "execution_count": 8,
   "metadata": {},
   "outputs": [],
   "source": [
    "aaa = pd.read_csv(\"E:/GoPro_1Hz_Unet_output/2020_3_4/GH010004_active.csv\")"
   ]
  },
  {
   "cell_type": "code",
   "execution_count": 9,
   "metadata": {},
   "outputs": [
    {
     "data": {
      "text/html": [
       "<div>\n",
       "<style scoped>\n",
       "    .dataframe tbody tr th:only-of-type {\n",
       "        vertical-align: middle;\n",
       "    }\n",
       "\n",
       "    .dataframe tbody tr th {\n",
       "        vertical-align: top;\n",
       "    }\n",
       "\n",
       "    .dataframe thead th {\n",
       "        text-align: right;\n",
       "    }\n",
       "</style>\n",
       "<table border=\"1\" class=\"dataframe\">\n",
       "  <thead>\n",
       "    <tr style=\"text-align: right;\">\n",
       "      <th></th>\n",
       "      <th>Unnamed: 0</th>\n",
       "      <th>date</th>\n",
       "      <th>camera</th>\n",
       "      <th>video</th>\n",
       "      <th>image_fname</th>\n",
       "      <th>active_whitecaps</th>\n",
       "      <th>active_whitecaps_fraction</th>\n",
       "      <th>predict_image</th>\n",
       "    </tr>\n",
       "  </thead>\n",
       "  <tbody>\n",
       "    <tr>\n",
       "      <th>0</th>\n",
       "      <td>0</td>\n",
       "      <td>2020_3_4_GoPro</td>\n",
       "      <td>image_left</td>\n",
       "      <td>GH010004.MP4</td>\n",
       "      <td>original_frame1.jpg</td>\n",
       "      <td>[[240 426]\\n [241 426]\\n [242 426]\\n [299 417]...</td>\n",
       "      <td>0.000253</td>\n",
       "      <td>[[0. 0. 0. ... 0. 0. 0.]\\n [0. 0. 0. ... 0. 0....</td>\n",
       "    </tr>\n",
       "    <tr>\n",
       "      <th>1</th>\n",
       "      <td>1</td>\n",
       "      <td>2020_3_4_GoPro</td>\n",
       "      <td>image_left</td>\n",
       "      <td>GH010004.MP4</td>\n",
       "      <td>original_frame2.jpg</td>\n",
       "      <td>[[300 502]\\n [330 393]\\n [331 393]\\n [331 402]...</td>\n",
       "      <td>0.000275</td>\n",
       "      <td>[[0. 0. 0. ... 0. 0. 0.]\\n [0. 0. 0. ... 0. 0....</td>\n",
       "    </tr>\n",
       "    <tr>\n",
       "      <th>2</th>\n",
       "      <td>2</td>\n",
       "      <td>2020_3_4_GoPro</td>\n",
       "      <td>image_left</td>\n",
       "      <td>GH010004.MP4</td>\n",
       "      <td>original_frame3.jpg</td>\n",
       "      <td>[[229 359]\\n [230 359]\\n [231 359]\\n [232 359]...</td>\n",
       "      <td>0.001211</td>\n",
       "      <td>[[0. 0. 0. ... 0. 0. 0.]\\n [0. 0. 0. ... 0. 0....</td>\n",
       "    </tr>\n",
       "    <tr>\n",
       "      <th>3</th>\n",
       "      <td>3</td>\n",
       "      <td>2020_3_4_GoPro</td>\n",
       "      <td>image_left</td>\n",
       "      <td>GH010004.MP4</td>\n",
       "      <td>original_frame4.jpg</td>\n",
       "      <td>[[210 581]\\n [210 582]\\n [211 581]\\n [211 582]...</td>\n",
       "      <td>0.000552</td>\n",
       "      <td>[[0. 0. 0. ... 0. 0. 0.]\\n [0. 0. 0. ... 0. 0....</td>\n",
       "    </tr>\n",
       "    <tr>\n",
       "      <th>4</th>\n",
       "      <td>4</td>\n",
       "      <td>2020_3_4_GoPro</td>\n",
       "      <td>image_left</td>\n",
       "      <td>GH010004.MP4</td>\n",
       "      <td>original_frame5.jpg</td>\n",
       "      <td>[[258 545]\\n [258 546]\\n [259 544]\\n [259 545]...</td>\n",
       "      <td>0.000865</td>\n",
       "      <td>[[0. 0. 0. ... 0. 0. 0.]\\n [0. 0. 0. ... 0. 0....</td>\n",
       "    </tr>\n",
       "    <tr>\n",
       "      <th>...</th>\n",
       "      <td>...</td>\n",
       "      <td>...</td>\n",
       "      <td>...</td>\n",
       "      <td>...</td>\n",
       "      <td>...</td>\n",
       "      <td>...</td>\n",
       "      <td>...</td>\n",
       "      <td>...</td>\n",
       "    </tr>\n",
       "    <tr>\n",
       "      <th>526</th>\n",
       "      <td>526</td>\n",
       "      <td>2020_3_4_GoPro</td>\n",
       "      <td>image_left</td>\n",
       "      <td>GH010004.MP4</td>\n",
       "      <td>original_frame527.jpg</td>\n",
       "      <td>[[165 290]\\n [165 291]\\n [165 292]\\n [166 290]...</td>\n",
       "      <td>0.000725</td>\n",
       "      <td>[[0. 0. 0. ... 0. 0. 0.]\\n [0. 0. 0. ... 0. 0....</td>\n",
       "    </tr>\n",
       "    <tr>\n",
       "      <th>527</th>\n",
       "      <td>527</td>\n",
       "      <td>2020_3_4_GoPro</td>\n",
       "      <td>image_left</td>\n",
       "      <td>GH010004.MP4</td>\n",
       "      <td>original_frame528.jpg</td>\n",
       "      <td>[[299 325]\\n [300 325]\\n [300 326]\\n [301 326]...</td>\n",
       "      <td>0.001066</td>\n",
       "      <td>[[0. 0. 0. ... 0. 0. 0.]\\n [0. 0. 0. ... 0. 0....</td>\n",
       "    </tr>\n",
       "    <tr>\n",
       "      <th>528</th>\n",
       "      <td>528</td>\n",
       "      <td>2020_3_4_GoPro</td>\n",
       "      <td>image_left</td>\n",
       "      <td>GH010004.MP4</td>\n",
       "      <td>original_frame529.jpg</td>\n",
       "      <td>[[278 285]\\n [278 286]\\n [279 285]\\n [279 286]...</td>\n",
       "      <td>0.002619</td>\n",
       "      <td>[[0. 0. 0. ... 0. 0. 0.]\\n [0. 0. 0. ... 0. 0....</td>\n",
       "    </tr>\n",
       "    <tr>\n",
       "      <th>529</th>\n",
       "      <td>529</td>\n",
       "      <td>2020_3_4_GoPro</td>\n",
       "      <td>image_left</td>\n",
       "      <td>GH010004.MP4</td>\n",
       "      <td>original_frame530.jpg</td>\n",
       "      <td>[[258 485]\\n [259 484]\\n [259 485]\\n [260 484]...</td>\n",
       "      <td>0.000181</td>\n",
       "      <td>[[0. 0. 0. ... 0. 0. 0.]\\n [0. 0. 0. ... 0. 0....</td>\n",
       "    </tr>\n",
       "    <tr>\n",
       "      <th>530</th>\n",
       "      <td>530</td>\n",
       "      <td>2020_3_4_GoPro</td>\n",
       "      <td>image_left</td>\n",
       "      <td>GH010004.MP4</td>\n",
       "      <td>original_frame531.jpg</td>\n",
       "      <td>[[320 516]\\n [321 516]\\n [322 516]\\n [326 465]...</td>\n",
       "      <td>0.000175</td>\n",
       "      <td>[[0. 0. 0. ... 0. 0. 0.]\\n [0. 0. 0. ... 0. 0....</td>\n",
       "    </tr>\n",
       "  </tbody>\n",
       "</table>\n",
       "<p>531 rows × 8 columns</p>\n",
       "</div>"
      ],
      "text/plain": [
       "     Unnamed: 0            date      camera         video  \\\n",
       "0             0  2020_3_4_GoPro  image_left  GH010004.MP4   \n",
       "1             1  2020_3_4_GoPro  image_left  GH010004.MP4   \n",
       "2             2  2020_3_4_GoPro  image_left  GH010004.MP4   \n",
       "3             3  2020_3_4_GoPro  image_left  GH010004.MP4   \n",
       "4             4  2020_3_4_GoPro  image_left  GH010004.MP4   \n",
       "..          ...             ...         ...           ...   \n",
       "526         526  2020_3_4_GoPro  image_left  GH010004.MP4   \n",
       "527         527  2020_3_4_GoPro  image_left  GH010004.MP4   \n",
       "528         528  2020_3_4_GoPro  image_left  GH010004.MP4   \n",
       "529         529  2020_3_4_GoPro  image_left  GH010004.MP4   \n",
       "530         530  2020_3_4_GoPro  image_left  GH010004.MP4   \n",
       "\n",
       "               image_fname                                   active_whitecaps  \\\n",
       "0      original_frame1.jpg  [[240 426]\\n [241 426]\\n [242 426]\\n [299 417]...   \n",
       "1      original_frame2.jpg  [[300 502]\\n [330 393]\\n [331 393]\\n [331 402]...   \n",
       "2      original_frame3.jpg  [[229 359]\\n [230 359]\\n [231 359]\\n [232 359]...   \n",
       "3      original_frame4.jpg  [[210 581]\\n [210 582]\\n [211 581]\\n [211 582]...   \n",
       "4      original_frame5.jpg  [[258 545]\\n [258 546]\\n [259 544]\\n [259 545]...   \n",
       "..                     ...                                                ...   \n",
       "526  original_frame527.jpg  [[165 290]\\n [165 291]\\n [165 292]\\n [166 290]...   \n",
       "527  original_frame528.jpg  [[299 325]\\n [300 325]\\n [300 326]\\n [301 326]...   \n",
       "528  original_frame529.jpg  [[278 285]\\n [278 286]\\n [279 285]\\n [279 286]...   \n",
       "529  original_frame530.jpg  [[258 485]\\n [259 484]\\n [259 485]\\n [260 484]...   \n",
       "530  original_frame531.jpg  [[320 516]\\n [321 516]\\n [322 516]\\n [326 465]...   \n",
       "\n",
       "     active_whitecaps_fraction  \\\n",
       "0                     0.000253   \n",
       "1                     0.000275   \n",
       "2                     0.001211   \n",
       "3                     0.000552   \n",
       "4                     0.000865   \n",
       "..                         ...   \n",
       "526                   0.000725   \n",
       "527                   0.001066   \n",
       "528                   0.002619   \n",
       "529                   0.000181   \n",
       "530                   0.000175   \n",
       "\n",
       "                                         predict_image  \n",
       "0    [[0. 0. 0. ... 0. 0. 0.]\\n [0. 0. 0. ... 0. 0....  \n",
       "1    [[0. 0. 0. ... 0. 0. 0.]\\n [0. 0. 0. ... 0. 0....  \n",
       "2    [[0. 0. 0. ... 0. 0. 0.]\\n [0. 0. 0. ... 0. 0....  \n",
       "3    [[0. 0. 0. ... 0. 0. 0.]\\n [0. 0. 0. ... 0. 0....  \n",
       "4    [[0. 0. 0. ... 0. 0. 0.]\\n [0. 0. 0. ... 0. 0....  \n",
       "..                                                 ...  \n",
       "526  [[0. 0. 0. ... 0. 0. 0.]\\n [0. 0. 0. ... 0. 0....  \n",
       "527  [[0. 0. 0. ... 0. 0. 0.]\\n [0. 0. 0. ... 0. 0....  \n",
       "528  [[0. 0. 0. ... 0. 0. 0.]\\n [0. 0. 0. ... 0. 0....  \n",
       "529  [[0. 0. 0. ... 0. 0. 0.]\\n [0. 0. 0. ... 0. 0....  \n",
       "530  [[0. 0. 0. ... 0. 0. 0.]\\n [0. 0. 0. ... 0. 0....  \n",
       "\n",
       "[531 rows x 8 columns]"
      ]
     },
     "execution_count": 9,
     "metadata": {},
     "output_type": "execute_result"
    }
   ],
   "source": [
    "aaa"
   ]
  },
  {
   "cell_type": "code",
   "execution_count": 18,
   "metadata": {},
   "outputs": [
    {
     "data": {
      "text/html": [
       "<div>\n",
       "<style scoped>\n",
       "    .dataframe tbody tr th:only-of-type {\n",
       "        vertical-align: middle;\n",
       "    }\n",
       "\n",
       "    .dataframe tbody tr th {\n",
       "        vertical-align: top;\n",
       "    }\n",
       "\n",
       "    .dataframe thead th {\n",
       "        text-align: right;\n",
       "    }\n",
       "</style>\n",
       "<table border=\"1\" class=\"dataframe\">\n",
       "  <thead>\n",
       "    <tr style=\"text-align: right;\">\n",
       "      <th></th>\n",
       "      <th>active_whitecaps_fraction</th>\n",
       "      <th>video</th>\n",
       "    </tr>\n",
       "  </thead>\n",
       "  <tbody>\n",
       "    <tr>\n",
       "      <th>0</th>\n",
       "      <td>0.000253</td>\n",
       "      <td>GH010004.MP4</td>\n",
       "    </tr>\n",
       "    <tr>\n",
       "      <th>1</th>\n",
       "      <td>0.000275</td>\n",
       "      <td>GH010004.MP4</td>\n",
       "    </tr>\n",
       "    <tr>\n",
       "      <th>2</th>\n",
       "      <td>0.001211</td>\n",
       "      <td>GH010004.MP4</td>\n",
       "    </tr>\n",
       "    <tr>\n",
       "      <th>3</th>\n",
       "      <td>0.000552</td>\n",
       "      <td>GH010004.MP4</td>\n",
       "    </tr>\n",
       "    <tr>\n",
       "      <th>4</th>\n",
       "      <td>0.000865</td>\n",
       "      <td>GH010004.MP4</td>\n",
       "    </tr>\n",
       "    <tr>\n",
       "      <th>...</th>\n",
       "      <td>...</td>\n",
       "      <td>...</td>\n",
       "    </tr>\n",
       "    <tr>\n",
       "      <th>526</th>\n",
       "      <td>0.000725</td>\n",
       "      <td>GH010004.MP4</td>\n",
       "    </tr>\n",
       "    <tr>\n",
       "      <th>527</th>\n",
       "      <td>0.001066</td>\n",
       "      <td>GH010004.MP4</td>\n",
       "    </tr>\n",
       "    <tr>\n",
       "      <th>528</th>\n",
       "      <td>0.002619</td>\n",
       "      <td>GH010004.MP4</td>\n",
       "    </tr>\n",
       "    <tr>\n",
       "      <th>529</th>\n",
       "      <td>0.000181</td>\n",
       "      <td>GH010004.MP4</td>\n",
       "    </tr>\n",
       "    <tr>\n",
       "      <th>530</th>\n",
       "      <td>0.000175</td>\n",
       "      <td>GH010004.MP4</td>\n",
       "    </tr>\n",
       "  </tbody>\n",
       "</table>\n",
       "<p>531 rows × 2 columns</p>\n",
       "</div>"
      ],
      "text/plain": [
       "     active_whitecaps_fraction         video\n",
       "0                     0.000253  GH010004.MP4\n",
       "1                     0.000275  GH010004.MP4\n",
       "2                     0.001211  GH010004.MP4\n",
       "3                     0.000552  GH010004.MP4\n",
       "4                     0.000865  GH010004.MP4\n",
       "..                         ...           ...\n",
       "526                   0.000725  GH010004.MP4\n",
       "527                   0.001066  GH010004.MP4\n",
       "528                   0.002619  GH010004.MP4\n",
       "529                   0.000181  GH010004.MP4\n",
       "530                   0.000175  GH010004.MP4\n",
       "\n",
       "[531 rows x 2 columns]"
      ]
     },
     "execution_count": 18,
     "metadata": {},
     "output_type": "execute_result"
    }
   ],
   "source": [
    "aaa[['active_whitecaps_fraction', 'video']]"
   ]
  },
  {
   "cell_type": "code",
   "execution_count": null,
   "metadata": {},
   "outputs": [],
   "source": []
  }
 ],
 "metadata": {
  "kernelspec": {
   "display_name": "Python 3.10.4 ('d2l')",
   "language": "python",
   "name": "python3"
  },
  "language_info": {
   "codemirror_mode": {
    "name": "ipython",
    "version": 3
   },
   "file_extension": ".py",
   "mimetype": "text/x-python",
   "name": "python",
   "nbconvert_exporter": "python",
   "pygments_lexer": "ipython3",
   "version": "3.10.4"
  },
  "orig_nbformat": 4,
  "vscode": {
   "interpreter": {
    "hash": "6e3fb3b94af17b2336c49a5de82acaa44c3b8f6e324b719a96125783e256d8bd"
   }
  }
 },
 "nbformat": 4,
 "nbformat_minor": 2
}
